{
 "cells": [
  {
   "cell_type": "markdown",
   "source": [
    "Here, we will calculate the product of the data matrix, where we will obtain the similarity.\n",
    "\n",
    "To evaluate, we will check if the position of the recommended players matches the player sought."
   ],
   "metadata": {
    "collapsed": false
   }
  },
  {
   "cell_type": "code",
   "execution_count": 10,
   "metadata": {
    "collapsed": true
   },
   "outputs": [],
   "source": [
    "# Importing the libraries\n",
    "import pandas as pd\n",
    "import numpy as np\n",
    "import math"
   ]
  },
  {
   "cell_type": "code",
   "execution_count": 2,
   "outputs": [],
   "source": [
    "# Importing the data\n",
    "final_data = pd.read_csv('../data/processed/binarized_data.csv', index_col=0)\n",
    "players_data = pd.read_csv('../data/interim/all_players_data_withoutDuplicates.csv', index_col=0)"
   ],
   "metadata": {
    "collapsed": false
   }
  },
  {
   "cell_type": "markdown",
   "source": [
    "Now that we have the data the way we want it, let's calculate the similarity between players by multiplying our dataframe matrix with its transposed matrix."
   ],
   "metadata": {
    "collapsed": false
   }
  },
  {
   "cell_type": "code",
   "execution_count": 3,
   "outputs": [],
   "source": [
    "# Calculating the similarity\n",
    "similarity_df = final_data.dot(final_data.T)"
   ],
   "metadata": {
    "collapsed": false
   }
  },
  {
   "cell_type": "code",
   "execution_count": 4,
   "outputs": [],
   "source": [
    "# Saving the data\n",
    "similarity_df.to_csv(\"../similarity_results/similarity_df.csv\")"
   ],
   "metadata": {
    "collapsed": false
   }
  },
  {
   "cell_type": "code",
   "execution_count": 43,
   "outputs": [],
   "source": [
    "def getsimilarplayers(df_similarity, player_id, qtd_recs):\n",
    "    \"\"\"Adds a column to the dataset containing the name of the competition.\n",
    "\n",
    "    Args:\n",
    "        df_similarity (str): Dataset containing similarity already calculated (USE pandas.dot())\n",
    "        player_id (dataframe): player id to fetch recommendations\n",
    "        qtd_recs (int): number of recommendations desired\n",
    "\n",
    "    Returns:\n",
    "        recs: id of most similar players\n",
    "    \"\"\"\n",
    "    recs = df_similarity.loc[player_id].sort_values(ascending = False).index.to_list()\n",
    "    return recs[1:qtd_recs+1]\n",
    "\n",
    "def getplayersname(id = [], df_players = None):\n",
    "    \"\"\"Adds a column to the dataset containing the name of the competition.\n",
    "\n",
    "    Args:\n",
    "        id (list): list of ids to search\n",
    "        df_players (dataframe): dataset containing player data\n",
    "\n",
    "    Returns:\n",
    "        players_info: dataset with the player's name and team\n",
    "    \"\"\"\n",
    "    players_info = df_players.query(f\"id == {id}\")[['Player', 'Pos', 'Squad']]\n",
    "    return players_info\n",
    "\n",
    "def getsimilaritylvl(binarized_data, id_player, recommendation_ids):\n",
    "    \"\"\"Adds a column to the dataset containing the name of the competition.\n",
    "\n",
    "    Args:\n",
    "        binarized_data (dataframe): dataset containing binarized data\n",
    "        id_player (str): player id used to get recommendations\n",
    "        recommendation_ids (list): list of ids recommended\n",
    "\n",
    "    Returns:\n",
    "        players_info: dataset with the player's name and team\n",
    "    \"\"\"\n",
    "    similarity_list = []\n",
    "    for id in recommendation_ids:\n",
    "        points_in_commom = (binarized_data.loc[id_player] == binarized_data.loc[id]).sum()\n",
    "        len_data = len(binarized_data.loc[id])\n",
    "        similarity_percent = round((points_in_commom/len_data)*100, 2)\n",
    "        similarity_list.append(similarity_percent)\n",
    "    return similarity_list"
   ],
   "metadata": {
    "collapsed": false
   }
  },
  {
   "cell_type": "code",
   "execution_count": 46,
   "outputs": [
    {
     "name": "stdout",
     "output_type": "stream",
     "text": [
      "Looking for similar players........\n",
      "Looking for player information..........\n",
      "Calculating the similarity..........\n",
      "\n",
      "Recommendations: \n",
      "\n",
      "\n",
      "              Player   Pos            Squad  Similarity_prcnt\n",
      "776   Kingsley Coman  FWDF    Bayern Munich             90.12\n",
      "1765   Ciro Immobile    FW            Lazio             89.51\n",
      "2286    Riyad Mahrez    FW  Manchester City             89.51\n",
      "2505         Memphis    FW        Barcelona             88.89\n"
     ]
    }
   ],
   "source": [
    "print(\"Looking for similar players........\")\n",
    "players = getsimilarplayers(similarity_df, '72d0e1b6', 4)\n",
    "print(\"Looking for player information..........\")\n",
    "data_recs = getplayersname(players, players_data)\n",
    "print(\"Calculating the similarity..........\\n\")\n",
    "data_recs['Similarity_prcnt'] = getsimilaritylvl(final_data, '72d0e1b6', players)\n",
    "print(\"Recommendations: \\n\\n\")\n",
    "print(data_recs)\n"
   ],
   "metadata": {
    "collapsed": false
   }
  }
 ],
 "metadata": {
  "kernelspec": {
   "display_name": "Python 3",
   "language": "python",
   "name": "python3"
  },
  "language_info": {
   "codemirror_mode": {
    "name": "ipython",
    "version": 2
   },
   "file_extension": ".py",
   "mimetype": "text/x-python",
   "name": "python",
   "nbconvert_exporter": "python",
   "pygments_lexer": "ipython2",
   "version": "2.7.6"
  }
 },
 "nbformat": 4,
 "nbformat_minor": 0
}
