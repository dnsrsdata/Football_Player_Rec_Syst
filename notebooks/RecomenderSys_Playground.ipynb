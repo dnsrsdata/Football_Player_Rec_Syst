{
 "cells": [
  {
   "cell_type": "code",
   "execution_count": 2,
   "metadata": {
    "collapsed": true
   },
   "outputs": [],
   "source": [
    "# Importing the libraries\n",
    "import pandas as pd"
   ]
  },
  {
   "cell_type": "code",
   "execution_count": 5,
   "outputs": [],
   "source": [
    "# Importing the data\n",
    "final_data = pd.read_csv('../data/processed/binarized_data.csv', index_col=0)\n",
    "players_data = pd.read_csv('../data/interim/all_players_data_withoutDuplicates.csv', index_col=0)"
   ],
   "metadata": {
    "collapsed": false
   }
  },
  {
   "cell_type": "markdown",
   "source": [
    "Now that we have the data the way we want it, let's calculate the similarity between players by multiplying our dataframe matrix with its transposed matrix."
   ],
   "metadata": {
    "collapsed": false
   }
  },
  {
   "cell_type": "code",
   "execution_count": 7,
   "outputs": [],
   "source": [
    "# Calculating the similarity\n",
    "similarity_df = final_data.dot(final_data.T)"
   ],
   "metadata": {
    "collapsed": false
   }
  },
  {
   "cell_type": "code",
   "execution_count": 6,
   "outputs": [],
   "source": [
    "# Saving the data\n",
    "similarity_df.to_csv(\"../similarity_results/similarity_df.csv\")"
   ],
   "metadata": {
    "collapsed": false
   }
  },
  {
   "cell_type": "code",
   "execution_count": 20,
   "outputs": [],
   "source": [
    "def getsimilarplayers(df_similarity, player_id, qtd_recs):\n",
    "    \"\"\"Adds a column to the dataset containing the name of the competition.\n",
    "\n",
    "    Args:\n",
    "        df_similarity (str): Dataset containing similarity already calculated (USE pandas.dot())\n",
    "        player_id (dataframe): player id to fetch recommendations\n",
    "        qtd_recs (int): number of recommendations desired\n",
    "\n",
    "    Returns:\n",
    "        recs: id of most similar players\n",
    "    \"\"\"\n",
    "    recs = df_similarity.loc[player_id].sort_values(ascending = False).index.to_list()\n",
    "    return recs[1:qtd_recs+1]\n",
    "\n",
    "def getplayersname(id = [], df_players = None):\n",
    "    \"\"\"Adds a column to the dataset containing the name of the competition.\n",
    "\n",
    "    Args:\n",
    "        id (list): list of ids to search\n",
    "        df_players (dataframe): dataset containing player data\n",
    "\n",
    "    Returns:\n",
    "        players_info: dataset with the player's name and team\n",
    "    \"\"\"\n",
    "    players_info = df_players.query(f\"id == {id}\")[['Player', 'Squad']]\n",
    "    return players_info"
   ],
   "metadata": {
    "collapsed": false
   }
  },
  {
   "cell_type": "code",
   "execution_count": 22,
   "outputs": [
    {
     "name": "stdout",
     "output_type": "stream",
     "text": [
      "Looking for similar players........\n",
      "Looking for player information.......... \n",
      "\n",
      "Recommendations: \n",
      "\n",
      "\n",
      "                Player       Squad\n",
      "2160  Philipp Lienhart    Freiburg\n",
      "2394        Marquinhos   Paris S-G\n",
      "2921    Danilo Pereira   Paris S-G\n",
      "5814            Manoel  Fluminense\n"
     ]
    }
   ],
   "source": [
    "print(\"Looking for similar players........\")\n",
    "players = getsimilarplayers(similarity_df, 'b96b595c', 4)\n",
    "print(\"Looking for player information.......... \\n\")\n",
    "data_recs = getplayersname(players, players_data)\n",
    "print(\"Recommendations: \\n\\n\")\n",
    "print(data_recs)\n"
   ],
   "metadata": {
    "collapsed": false
   }
  }
 ],
 "metadata": {
  "kernelspec": {
   "display_name": "Python 3",
   "language": "python",
   "name": "python3"
  },
  "language_info": {
   "codemirror_mode": {
    "name": "ipython",
    "version": 2
   },
   "file_extension": ".py",
   "mimetype": "text/x-python",
   "name": "python",
   "nbconvert_exporter": "python",
   "pygments_lexer": "ipython2",
   "version": "2.7.6"
  }
 },
 "nbformat": 4,
 "nbformat_minor": 0
}
