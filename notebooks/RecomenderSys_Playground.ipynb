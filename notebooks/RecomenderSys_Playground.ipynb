{
 "cells": [
  {
   "cell_type": "markdown",
   "source": [
    "Here, we will calculate the product of the data matrix, where we will obtain the similarity.\n",
    "\n",
    "To evaluate, we will check if the position of the recommended players matches the player sought."
   ],
   "metadata": {
    "collapsed": false
   }
  },
  {
   "cell_type": "code",
   "execution_count": 1,
   "metadata": {
    "collapsed": true
   },
   "outputs": [],
   "source": [
    "# Importing the libraries\n",
    "import pandas as pd"
   ]
  },
  {
   "cell_type": "code",
   "execution_count": 2,
   "outputs": [],
   "source": [
    "# Importing the data\n",
    "final_data = pd.read_csv('../data/processed/binarized_data.csv', index_col=0)\n",
    "players_data = pd.read_csv('../data/interim/all_players_data_withoutDuplicates.csv', index_col=0)"
   ],
   "metadata": {
    "collapsed": false
   }
  },
  {
   "cell_type": "markdown",
   "source": [
    "Now that we have the data the way we want it, let's calculate the similarity between players by multiplying our dataframe matrix with its transposed matrix."
   ],
   "metadata": {
    "collapsed": false
   }
  },
  {
   "cell_type": "code",
   "execution_count": 3,
   "outputs": [],
   "source": [
    "# Calculating the similarity\n",
    "similarity_df = final_data.dot(final_data.T)"
   ],
   "metadata": {
    "collapsed": false
   }
  },
  {
   "cell_type": "code",
   "execution_count": 4,
   "outputs": [],
   "source": [
    "# Saving the data\n",
    "similarity_df.to_csv(\"../similarity_results/similarity_df.csv\")"
   ],
   "metadata": {
    "collapsed": false
   }
  },
  {
   "cell_type": "code",
   "execution_count": 5,
   "outputs": [],
   "source": [
    "def getsimilarplayers(df_similarity, player_id, qtd_recs):\n",
    "    \"\"\"Adds a column to the dataset containing the name of the competition.\n",
    "\n",
    "    Args:\n",
    "        df_similarity (str): Dataset containing similarity already calculated (USE pandas.dot())\n",
    "        player_id (dataframe): player id to fetch recommendations\n",
    "        qtd_recs (int): number of recommendations desired\n",
    "\n",
    "    Returns:\n",
    "        recs: id of most similar players\n",
    "    \"\"\"\n",
    "    # Finding recommendations and sorting by value\n",
    "    recs = df_similarity.loc[player_id].sort_values(ascending = False).index.to_list()\n",
    "\n",
    "    return recs[1:qtd_recs+1]\n",
    "\n",
    "def getplayersname(ids, df_players):\n",
    "    \"\"\"Adds a column to the dataset containing the name of the competition.\n",
    "\n",
    "    Args:\n",
    "        id (list): list of ids to search\n",
    "        df_players (dataframe): dataset containing player data\n",
    "\n",
    "    Returns:\n",
    "        players_info: dataset with the player's name and team\n",
    "    \"\"\"\n",
    "    # Passing an index and copying the dataset\n",
    "    all_players = df_players.set_index('id').copy()\n",
    "\n",
    "    # Searching for data of interest\n",
    "    players_info = all_players.loc[ids, ['Player', 'Pos', 'Squad']]\n",
    "\n",
    "    return players_info\n",
    "\n",
    "def getsimilaritylvl(binarized_data, id_player, recommendation_ids):\n",
    "    \"\"\"Adds a column to the dataset containing the name of the competition.\n",
    "\n",
    "    Args:\n",
    "        binarized_data (dataframe): dataset containing binarized data\n",
    "        id_player (str): player id used to get recommendations\n",
    "        recommendation_ids (list): list of ids recommended\n",
    "\n",
    "    Returns:\n",
    "        players_info: dataset with the player's name and team\n",
    "    \"\"\"\n",
    "    # Creating an empty list\n",
    "    similarity_list = []\n",
    "\n",
    "    # Calculating the similarity of each recommendation\n",
    "    for id in recommendation_ids:\n",
    "\n",
    "        # Searching for the number of columns with common values and dividing by the total number of columns\n",
    "        points_in_commom = (binarized_data.loc[id_player] == binarized_data.loc[id]).sum()\n",
    "        len_data = len(binarized_data.loc[id])\n",
    "\n",
    "        # Rounding the values and adding them to the list\n",
    "        similarity_percent = round((points_in_commom/len_data)*100, 2)\n",
    "        similarity_list.append(similarity_percent)\n",
    "\n",
    "\n",
    "    return similarity_list"
   ],
   "metadata": {
    "collapsed": false
   }
  },
  {
   "cell_type": "code",
   "execution_count": 6,
   "outputs": [
    {
     "name": "stdout",
     "output_type": "stream",
     "text": [
      "Looking for similar players........\n",
      "Looking for player information..........\n",
      "Calculating the similarity..........\n",
      "\n",
      "Recommendations: \n",
      "\n",
      "\n",
      "                      Player   Pos            Squad  Similarity_prcnt\n",
      "id                                                                   \n",
      "892d5bb1        Riyad Mahrez    FW  Manchester City             89.98\n",
      "eb2fe5b6         Luis Muriel  FWMF         Atalanta             89.58\n",
      "74596f1a      Bart Ramselaar  MFFW          Utrecht             89.58\n",
      "1880614f        Cengiz Ünder  FWMF        Marseille             89.18\n",
      "d3d89d8d        David Terans    MF   Atl Paranaense             88.78\n",
      "70cf63ca          Rafa Silva  MFFW          Benfica             88.38\n",
      "bc6bd723       Alassane Pléa  MFFW       M'Gladbach             88.38\n",
      "24ce161c             Luciano    FW        São Paulo             88.38\n",
      "81255c03          João Pedro    FW         Cagliari             88.38\n",
      "8d78e732  Robert Lewandowski    FW    Bayern Munich             88.38\n"
     ]
    }
   ],
   "source": [
    "print(\"Looking for similar players........\")\n",
    "players = getsimilarplayers(similarity_df, '72d0e1b6', 10)\n",
    "print(\"Looking for player information..........\")\n",
    "data_recs = getplayersname(players, players_data)\n",
    "print(\"Calculating the similarity..........\\n\")\n",
    "data_recs['Similarity_prcnt'] = getsimilaritylvl(final_data, '72d0e1b6', players)\n",
    "print(\"Recommendations: \\n\\n\")\n",
    "print(data_recs)\n"
   ],
   "metadata": {
    "collapsed": false
   }
  },
  {
   "cell_type": "markdown",
   "source": [
    "We obtained relevant recommendations, considering that the statistics of soccer players vary according to their position. I believe that the chosen technique helped in this part, where I could summarize all the data in a similarity index, which for this case is excellent, because if I used only one feature, such as goals, defensive players would be less relevant during the recommendations , but the chosen technique allowed me to use other features like interceptions, passes, etc."
   ],
   "metadata": {
    "collapsed": false
   }
  }
 ],
 "metadata": {
  "kernelspec": {
   "display_name": "Python 3",
   "language": "python",
   "name": "python3"
  },
  "language_info": {
   "codemirror_mode": {
    "name": "ipython",
    "version": 2
   },
   "file_extension": ".py",
   "mimetype": "text/x-python",
   "name": "python",
   "nbconvert_exporter": "python",
   "pygments_lexer": "ipython2",
   "version": "2.7.6"
  }
 },
 "nbformat": 4,
 "nbformat_minor": 0
}
