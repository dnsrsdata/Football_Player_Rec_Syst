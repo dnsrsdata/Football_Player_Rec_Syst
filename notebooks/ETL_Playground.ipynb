{
 "cells": [
  {
   "cell_type": "code",
   "execution_count": 4,
   "metadata": {},
   "outputs": [],
   "source": [
    "# Importing the libraries\n",
    "import pandas as pd"
   ]
  },
  {
   "attachments": {},
   "cell_type": "markdown",
   "metadata": {},
   "source": [
    "## Obtaining the data"
   ]
  },
  {
   "attachments": {},
   "cell_type": "markdown",
   "metadata": {},
   "source": [
    "This phase consists of obtaining the data, where data will be collected \n",
    "regarding the performance of the players during the last season of the \n",
    "Premier League (United Kingdom), La Liga (Spain), Ligue 1 (France), \n",
    "Bundesliga (Germany), Serie A TIM (Italy), Eredivisie (Netherlands), \n",
    "Primeira Liga (Portugal) and Campeonato Brasileiro Série A (Brazil).\n",
    "\n",
    "Other championships with available data such as Liga MX (Mexico) and MLS \n",
    "(USA) will not be considered, as they have a different competition format \n",
    "from the others, which follow the consecutive points system.\n",
    "\n",
    "In addition, the data that will be used refer to the last season already \n",
    "finished, 2021/2022 for European championships and 2022 for the Brazilian \n",
    "Serie A. Data referring to current seasons will not be taken into account, \n",
    "as the European season is taking place and the Brazilian is only at the \n",
    "beginning, so it may be that there are players still in their old clubs.\n",
    "\n",
    "All data has been taken from the website [fbref](https://fbref.com/en/).\n",
    "\n",
    "The following data regarding players in each league will be collected:\n",
    "\n",
    "- Goalkeeping\n",
    "- Shooting\n",
    "- Passing\n",
    "- Defensive Actions\n",
    "- Big 5 European Leagues\n",
    "- In this session, we will load the data of the 5 biggest leagues in Europe: \n",
    "Premier League, La Liga, Bundesliga, Ligue 1 and Serie A TIM"
   ]
  },
  {
   "attachments": {},
   "cell_type": "markdown",
   "metadata": {},
   "source": [
    "#### Big 5 European Leagues\n",
    "In this session, we will load the data of the 5 biggest leagues in Europe: \n",
    "Premier League, La Liga, Bundesliga, Ligue 1 and Serie A TIM."
   ]
  },
  {
   "cell_type": "code",
   "execution_count": 5,
   "metadata": {},
   "outputs": [],
   "source": [
    "# Reading all data\n",
    "goalkeepers_bg5_df = pd.read_csv(\"../data/raw/goalkeepers_bg5.csv\")\n",
    "shoots_bg5_df = pd.read_csv('../data/raw/shoots_bg5.csv')\n",
    "passes_bg5_df = pd.read_csv('../data/raw/passes_bg5.csv')\n",
    "defense_bg5_df = pd.read_csv('../data/raw/defense_actions_bg5.csv')"
   ]
  },
  {
   "attachments": {},
   "cell_type": "markdown",
   "metadata": {},
   "source": [
    "#### Eredivisie\n",
    "In this session, we will load the Eredivise league data."
   ]
  },
  {
   "cell_type": "code",
   "execution_count": 6,
   "metadata": {},
   "outputs": [],
   "source": [
    "# Reading all data\n",
    "goalkeepers_Eredivisie_df = pd.read_csv('../data/raw/goalkeepers_Eredivisie.csv')\n",
    "shoots_Eredivisie_df = pd.read_csv('../data/raw/shoots_Eredivisie.csv')\n",
    "passes_Eredivisie_df = pd.read_csv('../data/raw/passes_Eredivisie.csv')\n",
    "defense_Eredivisie_df = pd.read_csv('../data/raw/defense_actions_Eredivisie.csv')"
   ]
  },
  {
   "attachments": {},
   "cell_type": "markdown",
   "metadata": {},
   "source": [
    "#### Primeira Liga\n",
    "Now, let's load the Portuguese league data."
   ]
  },
  {
   "cell_type": "code",
   "execution_count": 7,
   "metadata": {},
   "outputs": [],
   "source": [
    "# Reading all data\n",
    "goalkeepers_PrimeiraLiga_df = pd.read_csv('../data/raw/goalkeepers_PrimeiraLiga.csv')\n",
    "shoots_PrimeiraLiga_df = pd.read_csv('../data/raw/shoots_PrimeiraLiga.csv')\n",
    "passes_PrimeiraLiga_df = pd.read_csv('../data/raw/passes_PrimeiraLiga.csv')\n",
    "defense_PrimeiraLiga_df = pd.read_csv('../data/raw/defense_actions_PrimeiraLiga.csv')"
   ]
  },
  {
   "attachments": {},
   "cell_type": "markdown",
   "metadata": {},
   "source": [
    "#### Brasileiro Serie A\n",
    "And finally, we want to load the data of the Brazilian league."
   ]
  },
  {
   "cell_type": "code",
   "execution_count": 8,
   "metadata": {},
   "outputs": [],
   "source": [
    "goalkeepers_BrasileiroSerieA_df = pd.read_csv('../Data/raw/goalkeepers_BrasileiroSerieA.csv')\n",
    "shoots_BrasileiroSerieA_df = pd.read_csv('../Data/raw/shoots_BrasileiroSerieA.csv')\n",
    "passes_BrasileiroSerieA_df = pd.read_csv('../Data/raw/passes_BrasileiroSerieA.csv')\n",
    "defense_BrasileiroSerieA_df = pd.read_csv('../Data/raw/defense_actions_BrasileiroSerieA.csv')\n"
   ]
  },
  {
   "attachments": {},
   "cell_type": "markdown",
   "metadata": {},
   "source": [
    "## Understanding the data"
   ]
  },
  {
   "cell_type": "markdown",
   "metadata": {},
   "source": [
    "Now, let's check the datasets."
   ]
  },
  {
   "cell_type": "code",
   "execution_count": null,
   "metadata": {},
   "outputs": [],
   "source": []
  }
 ],
 "metadata": {
  "kernelspec": {
   "display_name": "venv",
   "language": "python",
   "name": "python3"
  },
  "language_info": {
   "codemirror_mode": {
    "name": "ipython",
    "version": 3
   },
   "file_extension": ".py",
   "mimetype": "text/x-python",
   "name": "python",
   "nbconvert_exporter": "python",
   "pygments_lexer": "ipython3",
   "version": "3.9.13"
  },
  "orig_nbformat": 4,
  "vscode": {
   "interpreter": {
    "hash": "92915b4b51ee7d5bf13144b8f5fdda7c53826463b008ef569ae44f5a95457b4a"
   }
  }
 },
 "nbformat": 4,
 "nbformat_minor": 2
}
