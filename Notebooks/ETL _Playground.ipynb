{
 "cells": [
  {
   "cell_type": "code",
   "execution_count": 1,
   "outputs": [],
   "source": [
    "# Importing the libraries\n",
    "import pandas as pd"
   ],
   "metadata": {
    "collapsed": false
   }
  },
  {
   "cell_type": "markdown",
   "source": [
    "## Obtaining the data"
   ],
   "metadata": {
    "collapsed": false
   }
  },
  {
   "cell_type": "markdown",
   "source": [
    "This phase consists of obtaining the data, where data will be collected regarding the performance of the players during the last season of the Premier League (United Kingdom), La Liga (Spain), Ligue 1 (France), Bundesliga (Germany), Serie A TIM (Italy), Eredivisie (Netherlands), Primeira Liga (Portugal) and Campeonato Brasileiro Série A (Brazil).\n",
    "\n",
    "Other championships with available data such as Liga MX (Mexico) and MLS (USA) will not be considered, as they have a different competition format from the others, which follow the consecutive points system.\n",
    "\n",
    "In addition, the data that will be used refer to the last season already finished, 2021/2022 for European championships and 2022 for the Brazilian Serie A. Data referring to current seasons will not be taken into account, as the European season is taking place and the Brazilian is only at the beginning, so it may be that there are players still in their old clubs.\n",
    "\n",
    "All data has been taken from the website [fbref](https://fbref.com).\n",
    "\n",
    "The following data regarding players in each league will be collected:\n",
    "- Goalkeeping\n",
    "- Shooting\n",
    "- Passing\n",
    "- Defensive Actions"
   ],
   "metadata": {
    "collapsed": false
   }
  },
  {
   "cell_type": "markdown",
   "source": [
    "#### Big 5 European Leagues\n",
    "In this session, we will get the data of the 5 biggest leagues in Europe: Premier League, La Liga, Bundesliga, Ligue 1 and Serie A TIM."
   ],
   "metadata": {
    "collapsed": false
   }
  },
  {
   "cell_type": "markdown",
   "source": [],
   "metadata": {
    "collapsed": false
   }
  },
  {
   "cell_type": "code",
   "execution_count": 2,
   "outputs": [],
   "source": [
    "# Reading all data\n",
    "goalkeepers_bg5_df = pd.read_csv('../Data/goalkeepers_bg5.csv')\n",
    "shoots_bg5_df = pd.read_csv('../Data/shoots_bg5.csv')\n",
    "passes_bg5_df = pd.read_csv('../Data/passes_bg5.csv')\n",
    "defense_bg5_df = pd.read_csv('../Data/defense_actions_bg5.csv')"
   ],
   "metadata": {
    "collapsed": false
   }
  },
  {
   "cell_type": "markdown",
   "source": [
    "#### Eredivisie\n",
    "In this session, we will collect the Eredivise league data."
   ],
   "metadata": {
    "collapsed": false
   }
  },
  {
   "cell_type": "markdown",
   "source": [
    "Now, let's check the datasets."
   ],
   "metadata": {
    "collapsed": false
   }
  },
  {
   "cell_type": "code",
   "execution_count": 3,
   "outputs": [
    {
     "data": {
      "text/plain": "   Rk              Player  Nation Pos          Squad                Comp  Age  \\\n0   1  Julen Agirrezabala  es ESP  GK  Athletic Club          es La Liga   20   \n1   2       Doğan Alemdar  tr TUR  GK         Rennes          fr Ligue 1   18   \n2   3             Alisson  br BRA  GK      Liverpool  eng Premier League   28   \n3   4     Alphonse Areola  fr FRA  GK       West Ham  eng Premier League   28   \n4   5   Kepa Arrizabalaga  es ESP  GK        Chelsea  eng Premier League   26   \n\n   Born  MP  Starts  ...  L  CS   CS%  PKatt  PKA  PKsv  PKm  Save%.1  \\\n0  2000   4       4  ...  1   1  25.0      0    0     0    0      NaN   \n1  2002  12      12  ...  5   4  33.3      2    1     1    0     50.0   \n2  1992  36      36  ...  2  20  55.6      0    0     0    0      NaN   \n3  1993   1       1  ...  1   0   0.0      0    0     0    0      NaN   \n4  1994   4       4  ...  1   2  50.0      0    0     0    0      NaN   \n\n   Matches     -9999  \n0  Matches  a2c1a8d3  \n1  Matches  9e17ccff  \n2  Matches  7a2e46a8  \n3  Matches  2f965a72  \n4  Matches  28d596a0  \n\n[5 rows x 29 columns]",
      "text/html": "<div>\n<style scoped>\n    .dataframe tbody tr th:only-of-type {\n        vertical-align: middle;\n    }\n\n    .dataframe tbody tr th {\n        vertical-align: top;\n    }\n\n    .dataframe thead th {\n        text-align: right;\n    }\n</style>\n<table border=\"1\" class=\"dataframe\">\n  <thead>\n    <tr style=\"text-align: right;\">\n      <th></th>\n      <th>Rk</th>\n      <th>Player</th>\n      <th>Nation</th>\n      <th>Pos</th>\n      <th>Squad</th>\n      <th>Comp</th>\n      <th>Age</th>\n      <th>Born</th>\n      <th>MP</th>\n      <th>Starts</th>\n      <th>...</th>\n      <th>L</th>\n      <th>CS</th>\n      <th>CS%</th>\n      <th>PKatt</th>\n      <th>PKA</th>\n      <th>PKsv</th>\n      <th>PKm</th>\n      <th>Save%.1</th>\n      <th>Matches</th>\n      <th>-9999</th>\n    </tr>\n  </thead>\n  <tbody>\n    <tr>\n      <th>0</th>\n      <td>1</td>\n      <td>Julen Agirrezabala</td>\n      <td>es ESP</td>\n      <td>GK</td>\n      <td>Athletic Club</td>\n      <td>es La Liga</td>\n      <td>20</td>\n      <td>2000</td>\n      <td>4</td>\n      <td>4</td>\n      <td>...</td>\n      <td>1</td>\n      <td>1</td>\n      <td>25.0</td>\n      <td>0</td>\n      <td>0</td>\n      <td>0</td>\n      <td>0</td>\n      <td>NaN</td>\n      <td>Matches</td>\n      <td>a2c1a8d3</td>\n    </tr>\n    <tr>\n      <th>1</th>\n      <td>2</td>\n      <td>Doğan Alemdar</td>\n      <td>tr TUR</td>\n      <td>GK</td>\n      <td>Rennes</td>\n      <td>fr Ligue 1</td>\n      <td>18</td>\n      <td>2002</td>\n      <td>12</td>\n      <td>12</td>\n      <td>...</td>\n      <td>5</td>\n      <td>4</td>\n      <td>33.3</td>\n      <td>2</td>\n      <td>1</td>\n      <td>1</td>\n      <td>0</td>\n      <td>50.0</td>\n      <td>Matches</td>\n      <td>9e17ccff</td>\n    </tr>\n    <tr>\n      <th>2</th>\n      <td>3</td>\n      <td>Alisson</td>\n      <td>br BRA</td>\n      <td>GK</td>\n      <td>Liverpool</td>\n      <td>eng Premier League</td>\n      <td>28</td>\n      <td>1992</td>\n      <td>36</td>\n      <td>36</td>\n      <td>...</td>\n      <td>2</td>\n      <td>20</td>\n      <td>55.6</td>\n      <td>0</td>\n      <td>0</td>\n      <td>0</td>\n      <td>0</td>\n      <td>NaN</td>\n      <td>Matches</td>\n      <td>7a2e46a8</td>\n    </tr>\n    <tr>\n      <th>3</th>\n      <td>4</td>\n      <td>Alphonse Areola</td>\n      <td>fr FRA</td>\n      <td>GK</td>\n      <td>West Ham</td>\n      <td>eng Premier League</td>\n      <td>28</td>\n      <td>1993</td>\n      <td>1</td>\n      <td>1</td>\n      <td>...</td>\n      <td>1</td>\n      <td>0</td>\n      <td>0.0</td>\n      <td>0</td>\n      <td>0</td>\n      <td>0</td>\n      <td>0</td>\n      <td>NaN</td>\n      <td>Matches</td>\n      <td>2f965a72</td>\n    </tr>\n    <tr>\n      <th>4</th>\n      <td>5</td>\n      <td>Kepa Arrizabalaga</td>\n      <td>es ESP</td>\n      <td>GK</td>\n      <td>Chelsea</td>\n      <td>eng Premier League</td>\n      <td>26</td>\n      <td>1994</td>\n      <td>4</td>\n      <td>4</td>\n      <td>...</td>\n      <td>1</td>\n      <td>2</td>\n      <td>50.0</td>\n      <td>0</td>\n      <td>0</td>\n      <td>0</td>\n      <td>0</td>\n      <td>NaN</td>\n      <td>Matches</td>\n      <td>28d596a0</td>\n    </tr>\n  </tbody>\n</table>\n<p>5 rows × 29 columns</p>\n</div>"
     },
     "execution_count": 3,
     "metadata": {},
     "output_type": "execute_result"
    }
   ],
   "source": [
    "# Checking the first rows\n",
    "goalkeepers_bg5_df.head()"
   ],
   "metadata": {
    "collapsed": false
   }
  },
  {
   "cell_type": "code",
   "execution_count": 4,
   "outputs": [
    {
     "data": {
      "text/plain": "   Rk             Player   Nation Pos          Squad                Comp  Age  \\\n0   1         Max Aarons  eng ENG  DF   Norwich City  eng Premier League   21   \n1   2   Yunis Abdelhamid   ma MAR  DF          Reims          fr Ligue 1   33   \n2   3  Salis Abdul Samed   gh GHA  MF  Clermont Foot          fr Ligue 1   21   \n3   4    Laurent Abergel   fr FRA  MF        Lorient          fr Ligue 1   28   \n4   5        Charles Abi   fr FRA  FW  Saint-Étienne          fr Ligue 1   21   \n\n   Born   90s  Gls  ...   FK  PK  PKatt   xG  npxG  npxG/Sh  G-xG  np:G-xG  \\\n0  2000  32.0    0  ...  0.0   0      0  0.9   0.9     0.07  -0.9     -0.9   \n1  1987  33.1    2  ...  0.0   0      0  1.5   1.5     0.08   0.5      0.5   \n2  2000  27.4    1  ...  0.0   0      0  1.1   1.1     0.06  -0.1     -0.1   \n3  1993  32.8    0  ...  0.0   0      0  2.1   2.1     0.07  -2.1     -2.1   \n4  2000   0.5    0  ...  0.0   0      0  0.0   0.0      NaN   0.0      0.0   \n\n   Matches     -9999  \n0  Matches  774cf58b  \n1  Matches  32c2d95f  \n2  Matches  82464ce3  \n3  Matches  31626657  \n4  Matches  469d3d84  \n\n[5 rows x 28 columns]",
      "text/html": "<div>\n<style scoped>\n    .dataframe tbody tr th:only-of-type {\n        vertical-align: middle;\n    }\n\n    .dataframe tbody tr th {\n        vertical-align: top;\n    }\n\n    .dataframe thead th {\n        text-align: right;\n    }\n</style>\n<table border=\"1\" class=\"dataframe\">\n  <thead>\n    <tr style=\"text-align: right;\">\n      <th></th>\n      <th>Rk</th>\n      <th>Player</th>\n      <th>Nation</th>\n      <th>Pos</th>\n      <th>Squad</th>\n      <th>Comp</th>\n      <th>Age</th>\n      <th>Born</th>\n      <th>90s</th>\n      <th>Gls</th>\n      <th>...</th>\n      <th>FK</th>\n      <th>PK</th>\n      <th>PKatt</th>\n      <th>xG</th>\n      <th>npxG</th>\n      <th>npxG/Sh</th>\n      <th>G-xG</th>\n      <th>np:G-xG</th>\n      <th>Matches</th>\n      <th>-9999</th>\n    </tr>\n  </thead>\n  <tbody>\n    <tr>\n      <th>0</th>\n      <td>1</td>\n      <td>Max Aarons</td>\n      <td>eng ENG</td>\n      <td>DF</td>\n      <td>Norwich City</td>\n      <td>eng Premier League</td>\n      <td>21</td>\n      <td>2000</td>\n      <td>32.0</td>\n      <td>0</td>\n      <td>...</td>\n      <td>0.0</td>\n      <td>0</td>\n      <td>0</td>\n      <td>0.9</td>\n      <td>0.9</td>\n      <td>0.07</td>\n      <td>-0.9</td>\n      <td>-0.9</td>\n      <td>Matches</td>\n      <td>774cf58b</td>\n    </tr>\n    <tr>\n      <th>1</th>\n      <td>2</td>\n      <td>Yunis Abdelhamid</td>\n      <td>ma MAR</td>\n      <td>DF</td>\n      <td>Reims</td>\n      <td>fr Ligue 1</td>\n      <td>33</td>\n      <td>1987</td>\n      <td>33.1</td>\n      <td>2</td>\n      <td>...</td>\n      <td>0.0</td>\n      <td>0</td>\n      <td>0</td>\n      <td>1.5</td>\n      <td>1.5</td>\n      <td>0.08</td>\n      <td>0.5</td>\n      <td>0.5</td>\n      <td>Matches</td>\n      <td>32c2d95f</td>\n    </tr>\n    <tr>\n      <th>2</th>\n      <td>3</td>\n      <td>Salis Abdul Samed</td>\n      <td>gh GHA</td>\n      <td>MF</td>\n      <td>Clermont Foot</td>\n      <td>fr Ligue 1</td>\n      <td>21</td>\n      <td>2000</td>\n      <td>27.4</td>\n      <td>1</td>\n      <td>...</td>\n      <td>0.0</td>\n      <td>0</td>\n      <td>0</td>\n      <td>1.1</td>\n      <td>1.1</td>\n      <td>0.06</td>\n      <td>-0.1</td>\n      <td>-0.1</td>\n      <td>Matches</td>\n      <td>82464ce3</td>\n    </tr>\n    <tr>\n      <th>3</th>\n      <td>4</td>\n      <td>Laurent Abergel</td>\n      <td>fr FRA</td>\n      <td>MF</td>\n      <td>Lorient</td>\n      <td>fr Ligue 1</td>\n      <td>28</td>\n      <td>1993</td>\n      <td>32.8</td>\n      <td>0</td>\n      <td>...</td>\n      <td>0.0</td>\n      <td>0</td>\n      <td>0</td>\n      <td>2.1</td>\n      <td>2.1</td>\n      <td>0.07</td>\n      <td>-2.1</td>\n      <td>-2.1</td>\n      <td>Matches</td>\n      <td>31626657</td>\n    </tr>\n    <tr>\n      <th>4</th>\n      <td>5</td>\n      <td>Charles Abi</td>\n      <td>fr FRA</td>\n      <td>FW</td>\n      <td>Saint-Étienne</td>\n      <td>fr Ligue 1</td>\n      <td>21</td>\n      <td>2000</td>\n      <td>0.5</td>\n      <td>0</td>\n      <td>...</td>\n      <td>0.0</td>\n      <td>0</td>\n      <td>0</td>\n      <td>0.0</td>\n      <td>0.0</td>\n      <td>NaN</td>\n      <td>0.0</td>\n      <td>0.0</td>\n      <td>Matches</td>\n      <td>469d3d84</td>\n    </tr>\n  </tbody>\n</table>\n<p>5 rows × 28 columns</p>\n</div>"
     },
     "execution_count": 4,
     "metadata": {},
     "output_type": "execute_result"
    }
   ],
   "source": [
    "# Checking the first rows\n",
    "shoots_bg5_df.head()"
   ],
   "metadata": {
    "collapsed": false
   }
  },
  {
   "cell_type": "code",
   "execution_count": 5,
   "outputs": [
    {
     "data": {
      "text/plain": "   Rk             Player   Nation Pos          Squad                Comp  Age  \\\n0   1         Max Aarons  eng ENG  DF   Norwich City  eng Premier League   21   \n1   2   Yunis Abdelhamid   ma MAR  DF          Reims          fr Ligue 1   33   \n2   3  Salis Abdul Samed   gh GHA  MF  Clermont Foot          fr Ligue 1   21   \n3   4    Laurent Abergel   fr FRA  MF        Lorient          fr Ligue 1   28   \n4   5        Charles Abi   fr FRA  FW  Saint-Étienne          fr Ligue 1   21   \n\n   Born   90s     Cmp  ...  xAG   xA  A-xAG    KP    1/3   PPA  CrsPA   Prog  \\\n0  2000  32.0  1107.0  ...  1.6  1.7    0.4  20.0   50.0  37.0    9.0   86.0   \n1  1987  33.1  1284.0  ...  0.9  0.6   -0.9   9.0   95.0   7.0    0.0   96.0   \n2  2000  27.4  1535.0  ...  1.0  0.8   -1.0  17.0   87.0  13.0    1.0   80.0   \n3  1993  32.8  1341.0  ...  4.4  2.6   -2.4  35.0  147.0  23.0    9.0  126.0   \n4  2000   0.5     3.0  ...  0.0  0.0    0.0   0.0    0.0   0.0    0.0    0.0   \n\n   Matches     -9999  \n0  Matches  774cf58b  \n1  Matches  32c2d95f  \n2  Matches  82464ce3  \n3  Matches  31626657  \n4  Matches  469d3d84  \n\n[5 rows x 34 columns]",
      "text/html": "<div>\n<style scoped>\n    .dataframe tbody tr th:only-of-type {\n        vertical-align: middle;\n    }\n\n    .dataframe tbody tr th {\n        vertical-align: top;\n    }\n\n    .dataframe thead th {\n        text-align: right;\n    }\n</style>\n<table border=\"1\" class=\"dataframe\">\n  <thead>\n    <tr style=\"text-align: right;\">\n      <th></th>\n      <th>Rk</th>\n      <th>Player</th>\n      <th>Nation</th>\n      <th>Pos</th>\n      <th>Squad</th>\n      <th>Comp</th>\n      <th>Age</th>\n      <th>Born</th>\n      <th>90s</th>\n      <th>Cmp</th>\n      <th>...</th>\n      <th>xAG</th>\n      <th>xA</th>\n      <th>A-xAG</th>\n      <th>KP</th>\n      <th>1/3</th>\n      <th>PPA</th>\n      <th>CrsPA</th>\n      <th>Prog</th>\n      <th>Matches</th>\n      <th>-9999</th>\n    </tr>\n  </thead>\n  <tbody>\n    <tr>\n      <th>0</th>\n      <td>1</td>\n      <td>Max Aarons</td>\n      <td>eng ENG</td>\n      <td>DF</td>\n      <td>Norwich City</td>\n      <td>eng Premier League</td>\n      <td>21</td>\n      <td>2000</td>\n      <td>32.0</td>\n      <td>1107.0</td>\n      <td>...</td>\n      <td>1.6</td>\n      <td>1.7</td>\n      <td>0.4</td>\n      <td>20.0</td>\n      <td>50.0</td>\n      <td>37.0</td>\n      <td>9.0</td>\n      <td>86.0</td>\n      <td>Matches</td>\n      <td>774cf58b</td>\n    </tr>\n    <tr>\n      <th>1</th>\n      <td>2</td>\n      <td>Yunis Abdelhamid</td>\n      <td>ma MAR</td>\n      <td>DF</td>\n      <td>Reims</td>\n      <td>fr Ligue 1</td>\n      <td>33</td>\n      <td>1987</td>\n      <td>33.1</td>\n      <td>1284.0</td>\n      <td>...</td>\n      <td>0.9</td>\n      <td>0.6</td>\n      <td>-0.9</td>\n      <td>9.0</td>\n      <td>95.0</td>\n      <td>7.0</td>\n      <td>0.0</td>\n      <td>96.0</td>\n      <td>Matches</td>\n      <td>32c2d95f</td>\n    </tr>\n    <tr>\n      <th>2</th>\n      <td>3</td>\n      <td>Salis Abdul Samed</td>\n      <td>gh GHA</td>\n      <td>MF</td>\n      <td>Clermont Foot</td>\n      <td>fr Ligue 1</td>\n      <td>21</td>\n      <td>2000</td>\n      <td>27.4</td>\n      <td>1535.0</td>\n      <td>...</td>\n      <td>1.0</td>\n      <td>0.8</td>\n      <td>-1.0</td>\n      <td>17.0</td>\n      <td>87.0</td>\n      <td>13.0</td>\n      <td>1.0</td>\n      <td>80.0</td>\n      <td>Matches</td>\n      <td>82464ce3</td>\n    </tr>\n    <tr>\n      <th>3</th>\n      <td>4</td>\n      <td>Laurent Abergel</td>\n      <td>fr FRA</td>\n      <td>MF</td>\n      <td>Lorient</td>\n      <td>fr Ligue 1</td>\n      <td>28</td>\n      <td>1993</td>\n      <td>32.8</td>\n      <td>1341.0</td>\n      <td>...</td>\n      <td>4.4</td>\n      <td>2.6</td>\n      <td>-2.4</td>\n      <td>35.0</td>\n      <td>147.0</td>\n      <td>23.0</td>\n      <td>9.0</td>\n      <td>126.0</td>\n      <td>Matches</td>\n      <td>31626657</td>\n    </tr>\n    <tr>\n      <th>4</th>\n      <td>5</td>\n      <td>Charles Abi</td>\n      <td>fr FRA</td>\n      <td>FW</td>\n      <td>Saint-Étienne</td>\n      <td>fr Ligue 1</td>\n      <td>21</td>\n      <td>2000</td>\n      <td>0.5</td>\n      <td>3.0</td>\n      <td>...</td>\n      <td>0.0</td>\n      <td>0.0</td>\n      <td>0.0</td>\n      <td>0.0</td>\n      <td>0.0</td>\n      <td>0.0</td>\n      <td>0.0</td>\n      <td>0.0</td>\n      <td>Matches</td>\n      <td>469d3d84</td>\n    </tr>\n  </tbody>\n</table>\n<p>5 rows × 34 columns</p>\n</div>"
     },
     "execution_count": 5,
     "metadata": {},
     "output_type": "execute_result"
    }
   ],
   "source": [
    "# Checking the first rows\n",
    "passes_bg5_df.head()"
   ],
   "metadata": {
    "collapsed": false
   }
  },
  {
   "cell_type": "code",
   "execution_count": 6,
   "outputs": [
    {
     "data": {
      "text/plain": "   Rk             Player   Nation Pos          Squad                Comp  Age  \\\n0   1         Max Aarons  eng ENG  DF   Norwich City  eng Premier League   21   \n1   2   Yunis Abdelhamid   ma MAR  DF          Reims          fr Ligue 1   33   \n2   3  Salis Abdul Samed   gh GHA  MF  Clermont Foot          fr Ligue 1   21   \n3   4    Laurent Abergel   fr FRA  MF        Lorient          fr Ligue 1   28   \n4   5        Charles Abi   fr FRA  FW  Saint-Étienne          fr Ligue 1   21   \n\n   Born   90s    Tkl  ...  Past  Blocks    Sh  Pass  Int  Tkl+Int    Clr  Err  \\\n0  2000  32.0   64.0  ...  18.0    39.0  19.0  20.0   28     92.0   96.0  1.0   \n1  1987  33.1   48.0  ...  16.0    50.0  25.0  25.0   68    116.0  104.0  0.0   \n2  2000  27.4   43.0  ...  37.0    18.0   1.0  17.0   42     85.0   15.0  0.0   \n3  1993  32.8  110.0  ...  95.0    58.0   1.0  57.0   55    165.0   13.0  0.0   \n4  2000   0.5    0.0  ...   1.0     2.0   0.0   2.0    0      0.0    0.0  0.0   \n\n   Matches     -9999  \n0  Matches  774cf58b  \n1  Matches  32c2d95f  \n2  Matches  82464ce3  \n3  Matches  31626657  \n4  Matches  469d3d84  \n\n[5 rows x 27 columns]",
      "text/html": "<div>\n<style scoped>\n    .dataframe tbody tr th:only-of-type {\n        vertical-align: middle;\n    }\n\n    .dataframe tbody tr th {\n        vertical-align: top;\n    }\n\n    .dataframe thead th {\n        text-align: right;\n    }\n</style>\n<table border=\"1\" class=\"dataframe\">\n  <thead>\n    <tr style=\"text-align: right;\">\n      <th></th>\n      <th>Rk</th>\n      <th>Player</th>\n      <th>Nation</th>\n      <th>Pos</th>\n      <th>Squad</th>\n      <th>Comp</th>\n      <th>Age</th>\n      <th>Born</th>\n      <th>90s</th>\n      <th>Tkl</th>\n      <th>...</th>\n      <th>Past</th>\n      <th>Blocks</th>\n      <th>Sh</th>\n      <th>Pass</th>\n      <th>Int</th>\n      <th>Tkl+Int</th>\n      <th>Clr</th>\n      <th>Err</th>\n      <th>Matches</th>\n      <th>-9999</th>\n    </tr>\n  </thead>\n  <tbody>\n    <tr>\n      <th>0</th>\n      <td>1</td>\n      <td>Max Aarons</td>\n      <td>eng ENG</td>\n      <td>DF</td>\n      <td>Norwich City</td>\n      <td>eng Premier League</td>\n      <td>21</td>\n      <td>2000</td>\n      <td>32.0</td>\n      <td>64.0</td>\n      <td>...</td>\n      <td>18.0</td>\n      <td>39.0</td>\n      <td>19.0</td>\n      <td>20.0</td>\n      <td>28</td>\n      <td>92.0</td>\n      <td>96.0</td>\n      <td>1.0</td>\n      <td>Matches</td>\n      <td>774cf58b</td>\n    </tr>\n    <tr>\n      <th>1</th>\n      <td>2</td>\n      <td>Yunis Abdelhamid</td>\n      <td>ma MAR</td>\n      <td>DF</td>\n      <td>Reims</td>\n      <td>fr Ligue 1</td>\n      <td>33</td>\n      <td>1987</td>\n      <td>33.1</td>\n      <td>48.0</td>\n      <td>...</td>\n      <td>16.0</td>\n      <td>50.0</td>\n      <td>25.0</td>\n      <td>25.0</td>\n      <td>68</td>\n      <td>116.0</td>\n      <td>104.0</td>\n      <td>0.0</td>\n      <td>Matches</td>\n      <td>32c2d95f</td>\n    </tr>\n    <tr>\n      <th>2</th>\n      <td>3</td>\n      <td>Salis Abdul Samed</td>\n      <td>gh GHA</td>\n      <td>MF</td>\n      <td>Clermont Foot</td>\n      <td>fr Ligue 1</td>\n      <td>21</td>\n      <td>2000</td>\n      <td>27.4</td>\n      <td>43.0</td>\n      <td>...</td>\n      <td>37.0</td>\n      <td>18.0</td>\n      <td>1.0</td>\n      <td>17.0</td>\n      <td>42</td>\n      <td>85.0</td>\n      <td>15.0</td>\n      <td>0.0</td>\n      <td>Matches</td>\n      <td>82464ce3</td>\n    </tr>\n    <tr>\n      <th>3</th>\n      <td>4</td>\n      <td>Laurent Abergel</td>\n      <td>fr FRA</td>\n      <td>MF</td>\n      <td>Lorient</td>\n      <td>fr Ligue 1</td>\n      <td>28</td>\n      <td>1993</td>\n      <td>32.8</td>\n      <td>110.0</td>\n      <td>...</td>\n      <td>95.0</td>\n      <td>58.0</td>\n      <td>1.0</td>\n      <td>57.0</td>\n      <td>55</td>\n      <td>165.0</td>\n      <td>13.0</td>\n      <td>0.0</td>\n      <td>Matches</td>\n      <td>31626657</td>\n    </tr>\n    <tr>\n      <th>4</th>\n      <td>5</td>\n      <td>Charles Abi</td>\n      <td>fr FRA</td>\n      <td>FW</td>\n      <td>Saint-Étienne</td>\n      <td>fr Ligue 1</td>\n      <td>21</td>\n      <td>2000</td>\n      <td>0.5</td>\n      <td>0.0</td>\n      <td>...</td>\n      <td>1.0</td>\n      <td>2.0</td>\n      <td>0.0</td>\n      <td>2.0</td>\n      <td>0</td>\n      <td>0.0</td>\n      <td>0.0</td>\n      <td>0.0</td>\n      <td>Matches</td>\n      <td>469d3d84</td>\n    </tr>\n  </tbody>\n</table>\n<p>5 rows × 27 columns</p>\n</div>"
     },
     "execution_count": 6,
     "metadata": {},
     "output_type": "execute_result"
    }
   ],
   "source": [
    "# Checking the first rows\n",
    "defense_bg5_df.head()"
   ],
   "metadata": {
    "collapsed": false
   }
  },
  {
   "cell_type": "markdown",
   "source": [
    "Looking at the datasets, we can see that:\n",
    "\n",
    "- There are missing values. They are probably players who were injured during the season or just didn't score points in that regard, for this reason, the value of 0 will be imputed in missing values.\n",
    "- All datasets have a Match column, which can be discarded.\n",
    "- The last column appears to be an identifier for each player.\n",
    "- Country data for each league can be taken from the Comp column."
   ],
   "metadata": {
    "collapsed": false
   }
  },
  {
   "cell_type": "code",
   "execution_count": 7,
   "outputs": [],
   "source": [
    "#Creating a function to fill 0 in missing values\n",
    "def input_zero(dataset):\n",
    "    new_dataset = dataset.fillna(0)\n",
    "\n",
    "    return new_dataset"
   ],
   "metadata": {
    "collapsed": false
   }
  },
  {
   "cell_type": "code",
   "execution_count": 8,
   "outputs": [],
   "source": [
    "# Creating a function to clean the columns of all datasets\n",
    "def clean_columns(dataset):\n",
    "    new_dataset = dataset.drop(columns=\"Matches\")\n",
    "\n",
    "    return new_dataset"
   ],
   "metadata": {
    "collapsed": false
   }
  },
  {
   "cell_type": "code",
   "execution_count": 9,
   "outputs": [],
   "source": [
    "# Filling 0 on NaN Values\n",
    "goalkeepers_bg5_df = input_zero(goalkeepers_bg5_df)\n",
    "passes_bg5_df = input_zero(passes_bg5_df)\n",
    "shoots_bg5_df = input_zero(shoots_bg5_df)\n",
    "defense_bg5_df = input_zero(defense_bg5_df)"
   ],
   "metadata": {
    "collapsed": false
   }
  },
  {
   "cell_type": "code",
   "execution_count": 10,
   "outputs": [],
   "source": [
    "# Cleaning columns\n",
    "goalkeepers_bg5_df = clean_columns(goalkeepers_bg5_df)\n",
    "passes_bg5_df = clean_columns(passes_bg5_df)\n",
    "shoots_bg5_df = clean_columns(shoots_bg5_df)\n",
    "defense_bg5_df = clean_columns(defense_bg5_df)"
   ],
   "metadata": {
    "collapsed": false
   }
  },
  {
   "cell_type": "markdown",
   "source": [],
   "metadata": {
    "collapsed": false
   }
  }
 ],
 "metadata": {
  "kernelspec": {
   "display_name": "Python 3",
   "language": "python",
   "name": "python3"
  },
  "language_info": {
   "codemirror_mode": {
    "name": "ipython",
    "version": 2
   },
   "file_extension": ".py",
   "mimetype": "text/x-python",
   "name": "python",
   "nbconvert_exporter": "python",
   "pygments_lexer": "ipython2",
   "version": "2.7.6"
  }
 },
 "nbformat": 4,
 "nbformat_minor": 0
}
